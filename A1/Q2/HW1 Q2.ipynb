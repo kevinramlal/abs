{
 "cells": [
  {
   "cell_type": "code",
   "execution_count": 1,
   "metadata": {},
   "outputs": [],
   "source": [
    "#import related libraries\n",
    "import pandas as pd\n",
    "from pandas import ExcelWriter\n",
    "from pandas import ExcelFile\n",
    "import numpy as np"
   ]
  },
  {
   "cell_type": "code",
   "execution_count": 51,
   "metadata": {},
   "outputs": [],
   "source": [
    "#import the hard-coded data from spreadsheet\n",
    "df = pd.read_excel('REMIC_TEmplate New (2).xlsx', sheet_name='Pool Info')\n",
    "\n",
    "#Define all useful variables, with 1 being \n",
    "balance_1 = df['CURRENT'][1]\n",
    "WAC_1 = df['SET.'][1]/100\n",
    "term_1 = df['POOL.1'][1]\n",
    "balance_2 = df['CURRENT'][2]\n",
    "WAC_2 = df['SET.'][2]/100\n",
    "WALA = df['POOL.2'][1]\n",
    "term_2 = df['POOL.1'][2]\n",
    "\n",
    "c = df['PC.1'][1]/100"
   ]
  },
  {
   "cell_type": "code",
   "execution_count": 21,
   "metadata": {},
   "outputs": [],
   "source": [
    "def payment_annuity(r,n,balance):\n",
    "    #calculate the payment received as annuity\n",
    "    #r: the rate applied\n",
    "    #n: term\n",
    "    #balance: current balance, or present value\n",
    "    \n",
    "    return balance*r/(1-1/((1+r)**n))"
   ]
  },
  {
   "cell_type": "code",
   "execution_count": 56,
   "metadata": {},
   "outputs": [],
   "source": [
    "def Total_Cash_Flow(WAC, init_balance, age,term, period=12,PSA=1.5):\n",
    "    #Calculate the payment information for each pool\n",
    "    #period: number of compoundings per year\n",
    "    #term: total life of the security\n",
    "    #WAC: weighted average coupon \n",
    "    #init_balance: original balance of the scurity\n",
    "    \n",
    "    #rate applied to every period\n",
    "    r = WAC/period\n",
    "    \n",
    "    #payment received every period\n",
    "    payment = np.zeros(term)\n",
    "    \n",
    "    #interest amount in the payment\n",
    "    interest = np.zeros(term)\n",
    "    \n",
    "    #principal amount in the payment\n",
    "    principal = np.zeros(term)\n",
    "    \n",
    "    #pre-paid principal\n",
    "    prepay = np.zeros(term)\n",
    "    \n",
    "   #the ending balance of principal after payment has been received \n",
    "    ending_balance = np.zeros(term+1)\n",
    "    ending_balance[0] = init_balance\n",
    "    \n",
    "    for i in range(term):\n",
    "        #calculate the installment amount\n",
    "        payment[i] = payment_annuity(r,term-i,ending_balance[i])\n",
    "        \n",
    "        #calculate the interest part of the installment\n",
    "        interest[i] = ending_balance[i]*r\n",
    "        \n",
    "        #calculate the schedule principal payment\n",
    "        if ending_balance[i]-(payment[i]-interest[i])>0.0001:\n",
    "            principal[i] = payment[i]-interest[i]\n",
    "        else:  principal[i] = ending_balance[i]\n",
    "                \n",
    "        #calculate the prepayment with given PSA\n",
    "        CPR = PSA*0.06*min(1,(i+1+age)/30)\n",
    "        SMM = 1-(1-CPR)**(1/12)\n",
    "        prepay[i] = SMM*(ending_balance[i]-principal[i])\n",
    "        \n",
    "        #new ending balance calculated\n",
    "        ending_balance[i+1] = ending_balance[i]-principal[i]-prepay[i]\n",
    "\n",
    "    return payment,interest,principal,prepay,ending_balance"
   ]
  },
  {
   "cell_type": "code",
   "execution_count": 90,
   "metadata": {},
   "outputs": [],
   "source": [
    "#Calculate cash flow from each pool\n",
    "payment_1,interest_1,principal_1,prepay_1,ending_balance_1 = Total_Cash_Flow(WAC_1, balance_1, WALA,term_1)\n",
    "payment_2,interest_2,principal_2,prepay_2,ending_balance_2 = Total_Cash_Flow(WAC_2, balance_2, WALA,term_2)\n",
    "\n",
    "#Align the 2 pools\n",
    "payment_1 = np.append(payment_1,0)\n",
    "interest_1 = np.append(interest_1,0)\n",
    "principal_1 = np.append(principal_1,0)\n",
    "prepay_1 = np.append(prepay_1,0)\n",
    "ending_balance_1 = np.append(ending_balance_1,0)\n",
    "\n",
    "#Combine to get summary cash flow \n",
    "#note that now \"principal\" inlcudes both scheduled and unscheduled principal\n",
    "principal = principal_1 + principal_2 + prepay_1 + prepay_2"
   ]
  },
  {
   "cell_type": "code",
   "execution_count": 184,
   "metadata": {},
   "outputs": [],
   "source": [
    "#initialize all bonds\n",
    "#[0]: balance\n",
    "#[1]:principal\n",
    "#[2]: interest\n",
    "#[3] == [-1]: accrued\n",
    "CG  = np.zeros((2,max(term_1,term_2)+1))\n",
    "VE =  np.zeros((2,max(term_1,term_2)+1))\n",
    "CM = np.zeros((2,max(term_1,term_2)+1))\n",
    "TC = np.zeros((2,max(term_1,term_2)+1))\n",
    "CA = np.zeros((2,max(term_1,term_2)+1))\n",
    "CY = np.zeros((2,max(term_1,term_2)+1))\n",
    "\n",
    "GZ = np.zeros((4,max(term_1,term_2)+1))\n",
    "CZ = np.zeros((4,max(term_1,term_2)+1))\n",
    "\n",
    "CG[0,0] = 74800000\n",
    "VE[0,0] = 5200000\n",
    "CM[0,0] = 14000000\n",
    "GZ[0,0] = 22000000\n",
    "TC[0,0] = 20000000\n",
    "CZ[0,0] = 24000000\n",
    "subtotal_1 = CG[0,0] + VE[0,0] + CM[0,0] + GZ[0,0] + TC[0,0] + CZ[0,0]\n",
    "CA[0,0] = 32550000\n",
    "CY[0,0] = 13950000\n",
    "subtotal_2 = CA[0,0] + CY[0,0]\n",
    "\n",
    "c_monthly = c/12\n",
    "for i in range(max(term_1,term_2)):\n",
    "    #From the first pool\n",
    "    #First,calculate the interest accuraled/paid for GZ and CZ\n",
    "    GZ[2,i+1] = c_monthly*GZ[0,i]\n",
    "    CZ[2,i+1] = c_monthly*CZ[0,i]\n",
    "    \n",
    "    #accumulate principals for CG, VE, and CM\n",
    "    CG[1,i+1] = max(0,min(principal[i]*subtotal_1/(subtotal_1+subtotal_2)+CZ[2,i+1],CG[0,i]))\n",
    "    CG[0,i+1] = CG[0,i] -CG[1,i+1]\n",
    "    VE[1,i+1] = max(0,min(principal[i]*subtotal_1/(subtotal_1+subtotal_2)+GZ[2,i+1]+CZ[2,i+1]-CG[1,i+1],VE[0,i]))\n",
    "    VE[0,i+1] = VE[0,i] -VE[1,i+1]\n",
    "    CM[1,i+1] = max(0,min(principal[i]*subtotal_1/(subtotal_1+subtotal_2)+GZ[2,i+1]+CZ[2,i+1]-CG[1,i+1]-VE[1,i+1] ,CM[0,i]))\n",
    "    CM[0,i+1] = CM[0,i] -CM[1,i+1]\n",
    "    \n",
    "    #Make appropriate accrual, and calculate its accumulated principal for GZ\n",
    "    if CM[0,i+1]>0:\n",
    "        GZ[-1,i+1] = GZ[2,i+1]\n",
    "    else: GZ[-1,i+1] = min(CM[1,i+1],GZ[2,i+1])\n",
    "    GZ[1,i+1] = max(0,min(principal[i]*subtotal_1/(subtotal_1+subtotal_2)+GZ[-1,i+1]+CZ[2,i+1]-CG[1,i+1]-VE[1,i+1]-CM[1,i+1] ,GZ[0,i]))\n",
    "    GZ[0,i+1] = GZ[0,i]+GZ[-1,i+1] - GZ[1,i+1]\n",
    "    \n",
    "    if GZ[0,i+1] > 0:\n",
    "        TC[1,i+1] = 0\n",
    "    else: TC[1,i+1] = min(principal[i]*subtotal_1/(subtotal_1+subtotal_2)+CZ[2,i+1]-GZ[1,i+1],TC[0,i])\n",
    "    TC[0,i+1] = TC[0,i]  - TC[1,i+1] \n",
    "    \n",
    "    #Make appropriate accrual, and calculate its accumulated principal for CZ\n",
    "    if TC[0,i+1]>0:\n",
    "        CZ[-1,i+1] = CZ[2,i+1]\n",
    "    else: CZ[-1,i+1] = min(TC[1,i+1],CZ[2,i+1])\n",
    "    CZ[1,i+1] = max(0,min(principal[i]*subtotal_1/(subtotal_1+subtotal_2)+CZ[-1,i+1]-CG[1,i+1]-VE[1,i+1]-CM[1,i+1]- GZ[1,i+1] -TC[1,i+1],CZ[0,i]))\n",
    "    CZ[0,i+1] = CZ[0,i]+CZ[-1,i+1] - CZ[1,i+1]\n",
    "    \n",
    "    #From the 2nd pool\n",
    "    CA[1,i+1] = min(principal[i]*subtotal_2/(subtotal_1+subtotal_2),CA[0,i])\n",
    "    CA[0,i+1]  = CA[0,i] - CA[1,i+1]\n",
    "    CY[1,i+1] = min(principal[i]*subtotal_2/(subtotal_1+subtotal_2)-CA[1,i+1],CY[0,i])\n",
    "    CY[0,i+1]  = CY[0,i] - CY[1,i+1]"
   ]
  },
  {
   "cell_type": "code",
   "execution_count": 198,
   "metadata": {},
   "outputs": [],
   "source": [
    "balance_bonds = np.array([CG[0], VE[0], CM[0], GZ[0],TC[0],CZ[0],CA[0],CY[0]])[:,:-1]\n",
    "principal_bonds = np.array([CG[1], VE[1], CM[1], GZ[1],TC[1],CZ[1],CA[1],CY[1]])[:,1:]\n",
    "interest_bonds=np.array([CG[0]*c_monthly, VE[0]*c_monthly, CM[0]*c_monthly, GZ[2]-GZ[1],TC[0]*c_monthly,CZ[2]-CZ[-1],CA[0]*c_monthly,CY[0]*c_monthly])[:,:-1]\n",
    "cashflow_undiscounted = principal_bonds + interest_bonds"
   ]
  },
  {
   "cell_type": "code",
   "execution_count": 199,
   "metadata": {},
   "outputs": [
    {
     "data": {
      "text/plain": [
       "array([[ 951900.89994597,  990702.86831829, 1029017.60906872, ...,\n",
       "              0.        ,       0.        ,       0.        ],\n",
       "       [ 113333.33333333,  113333.33333333,  113333.33333333, ...,\n",
       "              0.        ,       0.        ,       0.        ],\n",
       "       [  58333.33333333,   58333.33333333,   58333.33333333, ...,\n",
       "              0.        ,       0.        ,       0.        ],\n",
       "       ...,\n",
       "       [      0.        ,       0.        ,       0.        , ...,\n",
       "         195361.33296135,  192411.4479954 ,  118815.70558605],\n",
       "       [ 292630.5740468 ,  303907.396105  ,  315042.6176356 , ...,\n",
       "              0.        ,       0.        ,       0.        ],\n",
       "       [  58125.        ,   58125.        ,   58125.        , ...,\n",
       "          56541.2102729 ,   55686.51312595,   34300.34062657]])"
      ]
     },
     "execution_count": 199,
     "metadata": {},
     "output_type": "execute_result"
    }
   ],
   "source": [
    "cashflow_undiscounted"
   ]
  },
  {
   "cell_type": "code",
   "execution_count": null,
   "metadata": {},
   "outputs": [],
   "source": []
  }
 ],
 "metadata": {
  "kernelspec": {
   "display_name": "Python 3",
   "language": "python",
   "name": "python3"
  },
  "language_info": {
   "codemirror_mode": {
    "name": "ipython",
    "version": 3
   },
   "file_extension": ".py",
   "mimetype": "text/x-python",
   "name": "python",
   "nbconvert_exporter": "python",
   "pygments_lexer": "ipython3",
   "version": "3.6.8"
  }
 },
 "nbformat": 4,
 "nbformat_minor": 2
}
